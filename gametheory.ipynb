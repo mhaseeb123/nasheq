{
 "cells": [
  {
   "cell_type": "code",
   "execution_count": null,
   "metadata": {},
   "outputs": [],
   "source": []
  },
  {
   "cell_type": "markdown",
   "metadata": {},
   "source": [
    "# Import Packages"
   ]
  },
  {
   "cell_type": "code",
   "execution_count": 104,
   "metadata": {},
   "outputs": [],
   "source": [
    "import numpy as np\n",
    "import scipy as sp\n",
    "import pandas as pd\n",
    "import random\n",
    "import matplotlib\n",
    "import matplotlib.pyplot as plt\n",
    "from matplotlib import cm\n",
    "from matplotlib.ticker import LinearLocator, FormatStrFormatter\n",
    "from mpl_toolkits.mplot3d import Axes3D"
   ]
  },
  {
   "cell_type": "markdown",
   "metadata": {},
   "source": [
    "# User Input"
   ]
  },
  {
   "cell_type": "code",
   "execution_count": 129,
   "metadata": {},
   "outputs": [
    {
     "name": "stdout",
     "output_type": "stream",
     "text": [
      "Enter (R)andom or (M)anual payoffs entries\n",
      "R\n",
      "Enter the number of rows: 4\n",
      "Enter the number of cols: 6\n"
     ]
    }
   ],
   "source": [
    "# User strategy sets\n",
    "s1 = [\"A1\",\"A2\",\"A3\",\"A4\",\"A5\",\"A6\",\"A7\",\"A8\",\"A9\"]\n",
    "s2 = [\"B1\",\"B2\",\"B3\",\"B4\",\"B5\",\"B6\",\"B7\",\"B8\",\"B9\"]\n",
    "\n",
    "# Max size of strategy set \n",
    "szmax = 9\n",
    "\n",
    "# Initialize rows and columns to 1\n",
    "rows = 0\n",
    "cols = 0\n",
    "mode = \"I\"\n",
    "\n",
    "while (mode != \"R\" and mode != \"M\"):\n",
    "    mode = input(\"Enter (R)andom or (M)anual payoffs entries\\n\")\n",
    "\n",
    "while (rows < 1 or rows > szmax):\n",
    "    rows = input(\"Enter the number of rows: \")\n",
    "    rows = int (rows)\n",
    "\n",
    "while (cols < 1 or cols > szmax):\n",
    "    cols = input(\"Enter the number of cols: \")\n",
    "    cols = int(cols)\n"
   ]
  },
  {
   "cell_type": "markdown",
   "metadata": {},
   "source": [
    "# Instantiate and Initialize Data"
   ]
  },
  {
   "cell_type": "code",
   "execution_count": 130,
   "metadata": {},
   "outputs": [
    {
     "name": "stdout",
     "output_type": "stream",
     "text": [
      "------------------------------------\n",
      "Player: Player1's strategies\n",
      "------------------------------------\n",
      "{A1, A2, A3, A4}\n",
      "\n",
      "------------------------------------\n",
      "Player: Player1's payoffs\n",
      "------------------------------------\n",
      " 32,\t-87,\t-2,\t-34,\t-44,\t-55\n",
      "-80,\t 43,\t 35,\t-46,\t 47,\t-11\n",
      " 45,\t 58,\t 22,\t 57,\t 47,\t 20\n",
      " 73,\t-87,\t 12,\t-35,\t 8,\t-74\n",
      "\n",
      "------------------------------------\n",
      "Player: Player2's strategies\n",
      "------------------------------------\n",
      "{B1, B2, B3, B4, B5, B6}\n",
      "\n",
      "------------------------------------\n",
      "Player: Player2's payoffs\n",
      "------------------------------------\n",
      " 51,\t-28,\t-67,\t-89,\t 10,\t-52\n",
      "-94,\t-50,\t-43,\t 72,\t 25,\t 83\n",
      "-54,\t-44,\t 51,\t 26,\t 22,\t-10\n",
      " 38,\t 50,\t 71,\t-39,\t 16,\t 3\n"
     ]
    }
   ],
   "source": [
    "p1 = np.ones((rows, cols), dtype=np.int32)\n",
    "p2 = np.ones((rows, cols), dtype=np.int32)\n",
    "\n",
    "# Initialize with Random Payoffs\n",
    "if (mode == \"R\"):\n",
    "    for x in range(rows):\n",
    "        for y in range(cols):\n",
    "            p1[x,y] = random.randint(-99,99)\n",
    "            p2[x,y] = random.randint(-99,99)\n",
    "\n",
    "    print (\"------------------------------------\")\n",
    "    print (\"Player: Player1's strategies\")\n",
    "    print (\"------------------------------------\")\n",
    "\n",
    "    sp1 = \"{\"\n",
    "    for kk in range(rows):\n",
    "        sp1 += s1[kk] + \", \"\n",
    "    sp1 = sp1[:-2]\n",
    "    sp1+= \"}\"\n",
    "    print (sp1)\n",
    "\n",
    "    print (\"\\n------------------------------------\")\n",
    "    print (\"Player: Player1's payoffs\")\n",
    "    print (\"------------------------------------\")\n",
    "\n",
    "\n",
    "    for kk in range(rows):\n",
    "        sp1 = \"\"\n",
    "        for ll in range (cols):\n",
    "            if (p1[kk, ll] < 0):\n",
    "                sp1 += str(p1[kk, ll]) + \",\\t\"\n",
    "            else:\n",
    "                sp1 += \" \" + str(p1[kk, ll]) + \",\\t\"\n",
    "        sp1 = sp1[:-2]\n",
    "        print (sp1)\n",
    "    \n",
    "    \n",
    "    print (\"\\n------------------------------------\")\n",
    "    print (\"Player: Player2's strategies\")\n",
    "    print (\"------------------------------------\")\n",
    "\n",
    "    sp2 = \"{\"\n",
    "    for kk in range(cols):\n",
    "        sp2 += s2[kk] + \", \"\n",
    "    sp2 = sp2[:-2]\n",
    "    sp2+= \"}\"\n",
    "    print (sp2)\n",
    "    \n",
    "    print (\"\\n------------------------------------\")\n",
    "    print (\"Player: Player2's payoffs\")\n",
    "    print (\"------------------------------------\")\n",
    "\n",
    "\n",
    "    for kk in range(rows):\n",
    "        sp2 = \"\"\n",
    "        for ll in range (cols):\n",
    "            if (p2[kk, ll] < 0):\n",
    "                sp2 += str(p2[kk, ll]) + \",\\t\"\n",
    "            else:\n",
    "                sp2 += \" \" + str(p2[kk, ll]) + \",\\t\"\n",
    "        sp2 = sp2[:-2]\n",
    "        print (sp2)\n",
    "    \n",
    "    \n",
    "# Manual payoffs from the user input\n",
    "if (mode == \"M\"):\n",
    "    print (\"Manual Entries\")\n",
    "    # Input from user\n",
    "    for x in range(rows):\n",
    "        for y in range(cols):\n",
    "            p1[x,y], p2[x,y] = map(int, input(\"Enter payoff for ( \"+ s1[x] + \", \" + s2[y] + \" ) = \").split(','))\n",
    "            if (p1[x,y] > 99):\n",
    "                p1[x,y] = 99\n",
    "            if (p1[x,y] < -99):\n",
    "                p1[x,y] = -99\n",
    "            if (p2[x,y] > 99):\n",
    "                p2[x,y] = 99\n",
    "            if (p2[x,y] < -99):\n",
    "                p2[x,y] = -99\n",
    "                \n",
    "        print (\"---------------------------\")\n"
   ]
  },
  {
   "cell_type": "markdown",
   "metadata": {},
   "source": [
    "# Print Game Function (input: p1, p2)"
   ]
  },
  {
   "cell_type": "code",
   "execution_count": 132,
   "metadata": {},
   "outputs": [
    {
     "name": "stdout",
     "output_type": "stream",
     "text": [
      "=======================================\n",
      "Display Normal Form\n",
      "=======================================\n",
      "          B1            B2            B3            B4            B5            B6\n",
      "   -------------------------------------------------------------------------------------\n",
      "A1 |  (32 ,51 )  |  (-87,-28)  |  (-2 ,-67)  |  (-34,-89)  |  (-44,10 )  |  (-55,-52)  |\n",
      "   -------------------------------------------------------------------------------------\n",
      "A2 |  (-80,-94)  |  (43 ,-50)  |  (35 ,-43)  |  (-46,72 )  |  (47 ,25 )  |  (-11,83 )  |\n",
      "   -------------------------------------------------------------------------------------\n",
      "A3 |  (45 ,-54)  |  (58 ,-44)  |  (22 ,51 )  |  (57 ,26 )  |  (47 ,22 )  |  (20 ,-10)  |\n",
      "   -------------------------------------------------------------------------------------\n",
      "A4 |  (73 ,38 )  |  (-87,50 )  |  (12 ,71 )  |  (-35,-39)  |  (8  ,16 )  |  (-74,3  )  |\n",
      "   -------------------------------------------------------------------------------------\n"
     ]
    }
   ],
   "source": [
    "def printgame(p1,p2):\n",
    "    # Horizontal line\n",
    "    hline = \"   \"\n",
    "    hline += \"-\" * (14 * (cols) + 1)\n",
    "    \n",
    "    st2 = \" \" * 10\n",
    "    \n",
    "    for ll in range (cols):\n",
    "        st2 += s2[ll] + \" \" * 12 # strategy name will take the rest of 2 characters making 15 chars gap\n",
    "\n",
    "    print (st2[:-12])\n",
    "    print (hline)\n",
    "    \n",
    "    for ii in range (rows):\n",
    "        rstr = s1[ii] + \" |\"\n",
    "        for jj in range (cols):\n",
    "            kal = str(p1[ii,jj])\n",
    "            kali = str(p2[ii,jj])\n",
    "            rstr += \"  (\" + kal\n",
    "            rstr += \" \" * (3-len(kal))\n",
    "            rstr += \",\" + kali\n",
    "            rstr += \" \" * (3-len(kali))\n",
    "            rstr += \")  |\"\n",
    "        print (rstr)\n",
    "        print (hline)\n",
    "    \n",
    "# Print the game\n",
    "print (\"=======================================\")\n",
    "print (\"Display Normal Form\")\n",
    "print (\"=======================================\")\n",
    "\n",
    "printgame(p1,p2)"
   ]
  },
  {
   "cell_type": "markdown",
   "metadata": {},
   "source": [
    "# Find Pure Nash Equilibrium in the game"
   ]
  },
  {
   "cell_type": "code",
   "execution_count": 133,
   "metadata": {},
   "outputs": [
    {
     "name": "stdout",
     "output_type": "stream",
     "text": [
      "\n",
      "\n",
      "=======================================\n",
      "Nash Pure Equilibrium Locations\n",
      "=======================================\n",
      "          B1             B2             B3             B4             B5             B6             \n",
      "   -------------------------------------------------------------------------------------\n",
      "A1 |  ( 32,H  )  |  (-87,-28)  |  ( -2,-67)  |  (-34,-89)  |  (-44,10 )  |  (-55,-52)  |\n",
      "   -------------------------------------------------------------------------------------\n",
      "A2 |  (-80,-94)  |  ( 43,-50)  |  (  H,-43)  |  (-46,72 )  |  ( 47,25 )  |  (-11,H  )  |\n",
      "   -------------------------------------------------------------------------------------\n",
      "A3 |  ( 45,-54)  |  (  H,-44)  |  ( 22,H  )  |  (  H,26 )  |  (  H,22 )  |  (  H,-10)  |\n",
      "   -------------------------------------------------------------------------------------\n",
      "A4 |  (  H,38 )  |  (-87,50 )  |  ( 12,H  )  |  (-35,-39)  |  (  8,16 )  |  (-74,3  )  |\n",
      "   -------------------------------------------------------------------------------------\n",
      "\n",
      "Pure Nash Equilibrium(s): \n",
      "\n",
      "Nash Equilibrium(s): None\n"
     ]
    }
   ],
   "source": [
    "# Initialize the Nash Equilibrium to false\n",
    "nash = False\n",
    "\n",
    "def nasheq(p1,p2, li1, li2):\n",
    "    # Horizontal line\n",
    "    hline = \"   \"\n",
    "    hline += \"-\" * (14 * (cols) + 1)\n",
    "    \n",
    "    st2 = \" \" * 10\n",
    "    \n",
    "    for ll in range (cols):\n",
    "        st2 += s2[ll] + \" \" * 13 # strategy name will take the rest of 2 characters making 15 chars gap\n",
    "\n",
    "    print (st2)\n",
    "    print (hline)\n",
    "    \n",
    "    for ii in range (rows):\n",
    "        rstr = s1[ii] + \" |\"\n",
    "        for jj in range (cols):\n",
    "            kal = \"\"\n",
    "            kali = \"\"\n",
    "            if ((ii * cols + jj) in li1) == True:\n",
    "                kal = \"H\"\n",
    "            else:\n",
    "                kal = str(p1[ii,jj])\n",
    "                \n",
    "            if ((ii * cols + jj) in li2) == True:\n",
    "                kali = \"H\"\n",
    "            else:\n",
    "                kali = str(p2[ii,jj])\n",
    "            rstr += \"  (\"\n",
    "            rstr += \" \" * (3-len(kal)) + kal\n",
    "            rstr += \",\" + kali\n",
    "            rstr += \" \" * (3-len(kali))\n",
    "            rstr += \")  |\"\n",
    "        print (rstr)\n",
    "        print (hline)\n",
    "\n",
    "# Nash Eq sites\n",
    "l1 = []\n",
    "l2 = []\n",
    "mx = 0\n",
    "\n",
    "# Compute Max payoff locations for player 1\n",
    "for i in range(cols):\n",
    "    mx = -10000000\n",
    "    for j in range(rows):\n",
    "        if (p1[j,i] >= mx):\n",
    "            mx = p1[j,i]\n",
    "            ii = i\n",
    "            jj = j\n",
    "    #print (mx, ii, jj)\n",
    "    l1.append([jj * cols + ii])\n",
    "\n",
    "print (\"\\n\")\n",
    "    \n",
    "# Compute Max payoff locations for player 2\n",
    "for i in range(rows):\n",
    "    mx = -10000000\n",
    "    for j in range(cols):\n",
    "        if (p2[i,j] >= mx):\n",
    "            mx = p2[i,j]\n",
    "            ii = i\n",
    "            jj = j\n",
    "    #print (mx, ii, jj)\n",
    "    l2.append([ii * cols + jj])\n",
    "\n",
    "li1 = np.array(l1)\n",
    "li1 = np.reshape(li1, (1,np.product(li1.shape)))[0]\n",
    "li2 = np.array(l2)\n",
    "li2 = np.reshape(li2, (1,np.product(li2.shape)))[0]\n",
    "\n",
    "neq = np.intersect1d(li1, li2)\n",
    "\n",
    "print (\"=======================================\")\n",
    "print (\"Nash Pure Equilibrium Locations\")\n",
    "print (\"=======================================\")\n",
    "\n",
    "nasheq(p1,p2, li1, li2)\n",
    "\n",
    "prnt_str = \"\\nPure Nash Equilibrium(s): \"\n",
    "\n",
    "for l in range (neq.size):\n",
    "    prnt_str += \"(\" + s1[int(neq[l]/cols)] + \",\" + s2[int(neq[l] % cols)] + \")\" + \"\\t\"\n",
    "\n",
    "print (prnt_str)\n",
    "\n",
    "if neq.size > 0:\n",
    "    nash = True\n",
    "else:\n",
    "    print (\"\\nNash Equilibrium(s): None\")"
   ]
  },
  {
   "cell_type": "markdown",
   "metadata": {},
   "source": [
    "# Belief Matrices"
   ]
  },
  {
   "cell_type": "code",
   "execution_count": 110,
   "metadata": {},
   "outputs": [],
   "source": [
    "# Belief arrays\n",
    "theta1 = np.zeros(rows, dtype=float)\n",
    "theta2 = np.zeros(cols)\n",
    "Theta1 = \"(\"\n",
    "Theta2 = \"(\"\n",
    "\n",
    "# Summation of probabilities\n",
    "pr = 0\n",
    "\n",
    "if (rows != 2 or cols != 2):\n",
    "    # Create random belief about player 1\n",
    "    for k in range(theta1.size):\n",
    "        theta1[k] = random.randint(0,99)\n",
    "        pr += theta1[k]\n",
    "\n",
    "    for k in range(theta1.size):\n",
    "        theta1[k] /= pr\n",
    "\n",
    "    # Reset the summation\n",
    "    pr = 0\n",
    "\n",
    "    # Create random beliefs about player 2\n",
    "    for k in range(theta2.size):\n",
    "        theta2[k] = random.randint(0,99)\n",
    "        pr += theta2[k]\n",
    "\n",
    "    for k in range(theta2.size):\n",
    "        theta2[k] /= pr\n",
    "\n",
    "    # Print the matrix\n",
    "    for k in range (theta1.size):\n",
    "        Theta1 += str(theta1[k].round(2)) + \", \"\n",
    "        \n",
    "    for k in range (theta2.size):\n",
    "        Theta2 += str(theta2[k].round(2)) + \", \"\n",
    "    \n",
    "    Theta1 = Theta1[:-2]\n",
    "    Theta2 = Theta2[:-2]\n",
    "    Theta1 += \")\"\n",
    "    Theta2 += \")\"\n",
    "    \n",
    "#    print(Theta1)\n",
    "#    print(Theta2)"
   ]
  },
  {
   "cell_type": "markdown",
   "metadata": {},
   "source": [
    "# Best Response"
   ]
  },
  {
   "cell_type": "code",
   "execution_count": 111,
   "metadata": {},
   "outputs": [
    {
     "name": "stdout",
     "output_type": "stream",
     "text": [
      "----------------------------------------------\n",
      "Player 1 Expected Payoffs with Player 2 Mixing\n",
      "----------------------------------------------\n",
      "U1( A1 ,  (0.04, 0.1, 0.11, 0.04, 0.1, 0.01, 0.08, 0.26, 0.27) ) =  0.8959537572254312\n",
      "U1( A2 ,  (0.04, 0.1, 0.11, 0.04, 0.1, 0.01, 0.08, 0.26, 0.27) ) =  -64.52601156069363\n",
      "U1( A3 ,  (0.04, 0.1, 0.11, 0.04, 0.1, 0.01, 0.08, 0.26, 0.27) ) =  -28.263005780346823\n",
      "U1( A4 ,  (0.04, 0.1, 0.11, 0.04, 0.1, 0.01, 0.08, 0.26, 0.27) ) =  51.936416184971094\n",
      "U1( A5 ,  (0.04, 0.1, 0.11, 0.04, 0.1, 0.01, 0.08, 0.26, 0.27) ) =  -38.41618497109826\n",
      "U1( A6 ,  (0.04, 0.1, 0.11, 0.04, 0.1, 0.01, 0.08, 0.26, 0.27) ) =  25.09248554913295\n",
      "U1( A7 ,  (0.04, 0.1, 0.11, 0.04, 0.1, 0.01, 0.08, 0.26, 0.27) ) =  26.48843930635838\n",
      "U1( A8 ,  (0.04, 0.1, 0.11, 0.04, 0.1, 0.01, 0.08, 0.26, 0.27) ) =  -4.924855491329477\n",
      "U1( A9 ,  (0.04, 0.1, 0.11, 0.04, 0.1, 0.01, 0.08, 0.26, 0.27) ) =  -12.416184971098268\n",
      "\n",
      "----------------------------------------------\n",
      "Player 1 Best Response with Player 2 Mixing\n",
      "----------------------------------------------\n",
      "BR1 (0.04, 0.1, 0.11, 0.04, 0.1, 0.01, 0.08, 0.26, 0.27) = { A4 }\n",
      "\n",
      "----------------------------------------------\n",
      "Player 2 Expected Payoffs with Player 1 Mixing\n",
      "----------------------------------------------\n",
      "U2( B1 ,  (0.13, 0.11, 0.07, 0.05, 0.18, 0.08, 0.18, 0.03, 0.17) ) =  -25.30544747081712\n",
      "U2( B2 ,  (0.13, 0.11, 0.07, 0.05, 0.18, 0.08, 0.18, 0.03, 0.17) ) =  -10.570038910505838\n",
      "U2( B3 ,  (0.13, 0.11, 0.07, 0.05, 0.18, 0.08, 0.18, 0.03, 0.17) ) =  -32.871595330739304\n",
      "U2( B4 ,  (0.13, 0.11, 0.07, 0.05, 0.18, 0.08, 0.18, 0.03, 0.17) ) =  -1.7217898832684808\n",
      "U2( B5 ,  (0.13, 0.11, 0.07, 0.05, 0.18, 0.08, 0.18, 0.03, 0.17) ) =  -28.056420233463037\n",
      "U2( B6 ,  (0.13, 0.11, 0.07, 0.05, 0.18, 0.08, 0.18, 0.03, 0.17) ) =  -13.688715953307392\n",
      "U2( B7 ,  (0.13, 0.11, 0.07, 0.05, 0.18, 0.08, 0.18, 0.03, 0.17) ) =  -19.976653696498055\n",
      "U2( B8 ,  (0.13, 0.11, 0.07, 0.05, 0.18, 0.08, 0.18, 0.03, 0.17) ) =  -20.933852140077825\n",
      "U2( B9 ,  (0.13, 0.11, 0.07, 0.05, 0.18, 0.08, 0.18, 0.03, 0.17) ) =  1.7490272373540865\n",
      "\n",
      "----------------------------------------------\n",
      "Player 2 Best Response with Player 1 Mixing\n",
      "----------------------------------------------\n",
      "BR2 (0.13, 0.11, 0.07, 0.05, 0.18, 0.08, 0.18, 0.03, 0.17)  = { B9 }\n"
     ]
    }
   ],
   "source": [
    "# Payoffs\n",
    "u1s = np.zeros(rows, dtype=float)\n",
    "u2s = np.zeros(cols, dtype=float)\n",
    "\n",
    "if (rows != 2 or cols != 2):\n",
    "    # Compute payoffs\n",
    "    for i in range(rows):\n",
    "        for j in range(cols):\n",
    "            u1s[i] += theta2[j] * p1[i,j]\n",
    "\n",
    "    # Compute payoffs\n",
    "    for i in range(cols):\n",
    "        for j in range(rows):\n",
    "            u2s[i] += theta1[j] * p2[j,i]\n",
    "\n",
    "    print (\"----------------------------------------------\")\n",
    "    print (\"Player 1 Expected Payoffs with Player 2 Mixing\")\n",
    "    print (\"----------------------------------------------\")\n",
    "    for rr in range (u1s.size):\n",
    "        print (\"U1(\", s1[rr], \", \", Theta2, \") = \", u1s[rr])\n",
    "    \n",
    "    print (\"\\n----------------------------------------------\")\n",
    "    print (\"Player 1 Best Response with Player 2 Mixing\")\n",
    "    print (\"----------------------------------------------\")\n",
    "    print (\"BR1\",Theta2, \"= {\", s1[u1s.argmax()],\"}\\n\")\n",
    "    \n",
    "    print (\"----------------------------------------------\")\n",
    "    print (\"Player 2 Expected Payoffs with Player 1 Mixing\")\n",
    "    print (\"----------------------------------------------\")\n",
    "    for rr in range (u2s.size):\n",
    "        print (\"U2(\", s2[rr], \", \", Theta1, \") = \", u2s[rr])\n",
    "\n",
    "    # Print Best Response\n",
    "    print (\"\\n----------------------------------------------\")\n",
    "    print (\"Player 2 Best Response with Player 1 Mixing\")\n",
    "    print (\"----------------------------------------------\")\n",
    "    print (\"BR2\",Theta1,\" = {\", s2[u2s.argmax()],\"}\")"
   ]
  },
  {
   "cell_type": "markdown",
   "metadata": {},
   "source": [
    "# Expected Payoffs"
   ]
  },
  {
   "cell_type": "code",
   "execution_count": 112,
   "metadata": {},
   "outputs": [
    {
     "name": "stdout",
     "output_type": "stream",
     "text": [
      "------------------------------------------------------\n",
      "Player 1 & 2 Expected Payoffs with both Players Mixing\n",
      "------------------------------------------------------\n",
      "U1( (0.13, 0.11, 0.07, 0.05, 0.18, 0.08, 0.18, 0.03, 0.17) ,  (0.04, 0.1, 0.11, 0.04, 0.1, 0.01, 0.08, 0.26, 0.27) ) =  -7.974207732619602\n",
      "U1( (0.04, 0.1, 0.11, 0.04, 0.1, 0.01, 0.08, 0.26, 0.27) ,  (0.13, 0.11, 0.07, 0.05, 0.18, 0.08, 0.18, 0.03, 0.17) ) =  -14.962618924450645\n"
     ]
    }
   ],
   "source": [
    "# Expected payoff for player 1\n",
    "exp1 = 0\n",
    "# Expected payoff for player 2\n",
    "exp2 = 0\n",
    "\n",
    "if (rows != 2 or cols !=2):\n",
    "    # Compute\n",
    "    for i in range(rows):\n",
    "        exp1 += u1s[i] * theta1[i]\n",
    "\n",
    "    # Compute\n",
    "    for i in range(cols):\n",
    "        exp2 += u2s[i] * theta2[i]\n",
    "    \n",
    "    # Print\n",
    "    print(\"------------------------------------------------------\")\n",
    "    print(\"Player 1 & 2 Expected Payoffs with both Players Mixing\")\n",
    "    print(\"------------------------------------------------------\")\n",
    "    print (\"U1(\", Theta1, \", \", Theta2,\") = \", exp1)\n",
    "    print (\"U1(\", Theta2, \", \", Theta1,\") = \", exp2)"
   ]
  },
  {
   "cell_type": "markdown",
   "metadata": {},
   "source": [
    "# Case: 2x2 Game"
   ]
  },
  {
   "cell_type": "markdown",
   "metadata": {},
   "source": [
    "# Indifference 2 x 2 Game"
   ]
  },
  {
   "cell_type": "code",
   "execution_count": 113,
   "metadata": {},
   "outputs": [],
   "source": [
    "# Indifference Probabilities\n",
    "p = 0\n",
    "q = 0\n",
    "\n",
    "if (rows == 2 and cols == 2 and nash == False):\n",
    "    coeff = p1[0,0] - p1[0,1] - p1[1,0] + p1[1,1]\n",
    "    const = p1[1,1] - p1[0,1]\n",
    "    q = const/coeff\n",
    "\n",
    "    coeff = p2[0,0] - p2[1,0] - p2[0,1] + p2[1,1]\n",
    "    const = p2[1,1] - p2[1,0]\n",
    "    p = const/coeff\n",
    "\n",
    "    print (\"------------------------------------------\")\n",
    "    print (\"Player 1 & 2 Indifferent Mix Probabilities\")\n",
    "    print (\"------------------------------------------\")\n",
    "    # Print Indifference Probabilities\n",
    "    print (\"Player 1 probability of strategies (\", s1[0],\") =\", p)\n",
    "    print (\"Player 1 probability of strategies (\", s1[1],\") =\", 1-p)\n",
    "    print (\"Player 2 probability of strategies (\", s2[0],\") =\", q)\n",
    "    print (\"Player 2 probability of strategies (\", s2[1],\") =\", 1-q)\n",
    "\n",
    "elif (rows == 2 and cols == 2 and nash == True):\n",
    "    print (\"Normal Form has Pure Strategy Equilibrium\")\n"
   ]
  },
  {
   "cell_type": "code",
   "execution_count": 114,
   "metadata": {},
   "outputs": [
    {
     "name": "stdout",
     "output_type": "stream",
     "text": [
      "\n",
      " Press Any Key and Enter to Exit.. 0\n"
     ]
    }
   ],
   "source": [
    "ex = input (\"\\n Press Any Key and Enter to Exit.. \")"
   ]
  },
  {
   "cell_type": "code",
   "execution_count": null,
   "metadata": {},
   "outputs": [],
   "source": []
  },
  {
   "cell_type": "code",
   "execution_count": null,
   "metadata": {},
   "outputs": [],
   "source": []
  }
 ],
 "metadata": {
  "kernelspec": {
   "display_name": "Python 3",
   "language": "python",
   "name": "python3"
  },
  "language_info": {
   "codemirror_mode": {
    "name": "ipython",
    "version": 3
   },
   "file_extension": ".py",
   "mimetype": "text/x-python",
   "name": "python",
   "nbconvert_exporter": "python",
   "pygments_lexer": "ipython3",
   "version": "3.7.1"
  }
 },
 "nbformat": 4,
 "nbformat_minor": 2
}
