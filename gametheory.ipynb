{
 "cells": [
  {
   "cell_type": "markdown",
   "metadata": {},
   "source": [
    "# Import Packages"
   ]
  },
  {
   "cell_type": "code",
   "execution_count": null,
   "metadata": {},
   "outputs": [],
   "source": [
    "import numpy as np\n",
    "import scipy as sp\n",
    "import pandas as pd\n",
    "import random\n",
    "import matplotlib\n",
    "import matplotlib.pyplot as plt\n",
    "from matplotlib import cm\n",
    "from matplotlib.ticker import LinearLocator, FormatStrFormatter\n",
    "from mpl_toolkits.mplot3d import Axes3D"
   ]
  },
  {
   "cell_type": "markdown",
   "metadata": {},
   "source": [
    "# User Input"
   ]
  },
  {
   "cell_type": "code",
   "execution_count": null,
   "metadata": {},
   "outputs": [],
   "source": [
    "# User strategy sets\n",
    "s1 = [\"A1\",\"A2\",\"A3\",\"A4\",\"A5\",\"A6\",\"A7\",\"A8\",\"A9\"]\n",
    "s2 = [\"B1\",\"B2\",\"B3\",\"B4\",\"B5\",\"B6\",\"B7\",\"B8\",\"B9\"]\n",
    "\n",
    "# Max size of strategy set \n",
    "szmax = 9\n",
    "\n",
    "# Initialize rows and columns to 1\n",
    "rows = 0\n",
    "cols = 0\n",
    "mode = \"I\"\n",
    "\n",
    "while (mode != \"R\" and mode != \"M\"):\n",
    "    mode = input(\"Enter (R)andom or (M)anual payoffs entries\\n\")\n",
    "\n",
    "while (rows < 1 or rows > szmax):\n",
    "    rows = input(\"Enter the number of rows: \")\n",
    "    rows = int (rows)\n",
    "\n",
    "while (cols < 1 or cols > szmax):\n",
    "    cols = input(\"Enter the number of rows: \")\n",
    "    cols = int(cols)\n"
   ]
  },
  {
   "cell_type": "markdown",
   "metadata": {},
   "source": [
    "# Instantiate and Initialize Data"
   ]
  },
  {
   "cell_type": "code",
   "execution_count": null,
   "metadata": {},
   "outputs": [],
   "source": [
    "p1 = np.ones((rows, cols), dtype=np.int32)\n",
    "p2 = np.ones((rows, cols), dtype=np.int32)\n",
    "\n",
    "# Initialize with Random Payoffs\n",
    "if (mode == \"R\"):\n",
    "    for x in range(rows):\n",
    "        for y in range(cols):\n",
    "            p1[x,y] = random.randint(-99,99)\n",
    "            p2[x,y] = random.randint(-99,99)\n",
    "\n",
    "print (p1)\n",
    "print (p2)\n",
    "\n",
    "# Manual payoffs from the user input\n",
    "if (mode == \"M\"):\n",
    "    # Input from user\n",
    "    p1\n",
    "    p2\n"
   ]
  },
  {
   "cell_type": "markdown",
   "metadata": {},
   "source": [
    "# Print Game Function (input: p1, p2)"
   ]
  },
  {
   "cell_type": "code",
   "execution_count": null,
   "metadata": {},
   "outputs": [],
   "source": [
    "#def printgame(p1,p2):"
   ]
  },
  {
   "cell_type": "markdown",
   "metadata": {},
   "source": [
    "# Find Pure Nash Equilibrium in the game"
   ]
  },
  {
   "cell_type": "code",
   "execution_count": null,
   "metadata": {},
   "outputs": [],
   "source": [
    "nash = False\n",
    "\n",
    "# Nash Eq sites\n",
    "l1 = []\n",
    "l2 = []\n",
    "mx = 0\n",
    "\n",
    "# Compute Max payoff locations for player 1\n",
    "for i in range(cols):\n",
    "    mx = -10000000\n",
    "    for j in range(rows):\n",
    "        if (p1[j,i] > mx):\n",
    "            mx = p1[j,i]\n",
    "            ii = i\n",
    "            jj = j\n",
    "    l1.append([ii * rows + jj])\n",
    "\n",
    "print (\"\\n\")\n",
    "    \n",
    "# Compute Max payoff locations for player 2\n",
    "for i in range(rows):\n",
    "    mx = -10000000\n",
    "    for j in range(cols):\n",
    "        if (p2[i,j] > mx):\n",
    "            mx = p2[i,j]\n",
    "            ii = i\n",
    "            jj = j\n",
    "    l2.append([ii * rows + jj])\n",
    "\n",
    "li1 = np.array(l1)\n",
    "li1 = np.reshape(li1, (1,np.product(li1.shape)))[0]\n",
    "li2 = np.array(l2)\n",
    "li2 = np.reshape(li2, (1,np.product(li2.shape)))[0]\n",
    "\n",
    "neq = np.intersect1d(li1, li2)\n",
    "\n",
    "prnt_str = \"Pure Nash Equilibrium(s): \"\n",
    "\n",
    "for l in range (neq.size):\n",
    "    prnt_str += \"(\" + s1[int(neq[l]/cols)] + \",\" + s2[int(neq[l] % cols)] + \")\" + \" \"\n",
    "\n",
    "print (prnt_str)\n",
    "\n",
    "if neq.size > 0:\n",
    "    nash = True\n",
    "else:\n",
    "    print (\"Nash Equilibrium(s): None\")"
   ]
  },
  {
   "cell_type": "markdown",
   "metadata": {},
   "source": [
    "# Belief Matrices"
   ]
  },
  {
   "cell_type": "code",
   "execution_count": null,
   "metadata": {},
   "outputs": [],
   "source": [
    "# Belief arrays\n",
    "theta1 = np.zeros(rows, dtype=float)\n",
    "theta2 = np.zeros(cols)\n",
    "Theta1 = \"(\"\n",
    "Theta2 = \"(\"\n",
    "\n",
    "# Summation of probabilities\n",
    "pr = 0\n",
    "\n",
    "if (rows != 2 or cols != 2):\n",
    "    # Create random belief about player 1\n",
    "    for k in range(theta1.size):\n",
    "        theta1[k] = random.randint(0,99)\n",
    "        pr += theta1[k]\n",
    "\n",
    "    for k in range(theta1.size):\n",
    "        theta1[k] /= pr\n",
    "\n",
    "    # Reset the summation\n",
    "    pr = 0\n",
    "\n",
    "    # Create random beliefs about player 2\n",
    "    for k in range(theta2.size):\n",
    "        theta2[k] = random.randint(0,99)\n",
    "        pr += theta2[k]\n",
    "\n",
    "    for k in range(theta2.size):\n",
    "        theta2[k] /= pr\n",
    "\n",
    "    # Print the matrix\n",
    "    for k in range (theta1.size):\n",
    "        Theta1 += str(theta1[k].round(2)) + \", \"\n",
    "        \n",
    "    for k in range (theta2.size):\n",
    "        Theta2 += str(theta2[k].round(2)) + \", \"\n",
    "    \n",
    "    Theta1 = Theta1[:-2]\n",
    "    Theta2 = Theta2[:-2]\n",
    "    Theta1 += \")\"\n",
    "    Theta2 += \")\"\n",
    "    \n",
    "    #print(Theta1)\n",
    "    #print(Theta2)"
   ]
  },
  {
   "cell_type": "markdown",
   "metadata": {},
   "source": [
    "# Best Response"
   ]
  },
  {
   "cell_type": "code",
   "execution_count": null,
   "metadata": {},
   "outputs": [],
   "source": [
    "# Payoffs\n",
    "u1s = np.zeros(rows, dtype=float)\n",
    "u2s = np.zeros(cols, dtype=float)\n",
    "\n",
    "if (rows != 2 or cols != 2):\n",
    "    # Compute payoffs\n",
    "    for i in range(rows):\n",
    "        for j in range(cols):\n",
    "            u1s[i] += theta2[j] * p1[i,j]\n",
    "\n",
    "    # Compute payoffs\n",
    "    for i in range(cols):\n",
    "        for j in range(rows):\n",
    "            u2s[i] += theta1[j] * p2[j,i]\n",
    "\n",
    "    print (\"----------------------------------------------\")\n",
    "    print (\"Player 1 Expected Payoffs with Player 2 Mixing\")\n",
    "    print (\"----------------------------------------------\")\n",
    "    for rr in range (u1s.size):\n",
    "        print (\"U1(\", s1[rr], \", \", Theta2, \") = \", u1s[rr])\n",
    "    \n",
    "    print (\"\\n----------------------------------------------\")\n",
    "    print (\"Player 1 Best Response with Player 2 Mixing\")\n",
    "    print (\"----------------------------------------------\")\n",
    "    print (\"BR1\",Theta2, \"= {\", s1[u1s.argmax()],\"}\\n\")\n",
    "    \n",
    "    print (\"----------------------------------------------\")\n",
    "    print (\"Player 2 Expected Payoffs with Player 1 Mixing\")\n",
    "    print (\"----------------------------------------------\")\n",
    "    for rr in range (u2s.size):\n",
    "        print (\"U2(\", s2[rr], \", \", Theta1, \") = \", u2s[rr])\n",
    "\n",
    "    # Print Best Response\n",
    "    print (\"\\n----------------------------------------------\")\n",
    "    print (\"Player 2 Best Response with Player 1 Mixing\")\n",
    "    print (\"----------------------------------------------\")\n",
    "    print (\"BR2\",Theta1,\" = {\", s2[u2s.argmax()],\"}\")"
   ]
  },
  {
   "cell_type": "markdown",
   "metadata": {},
   "source": [
    "# Expected Payoffs"
   ]
  },
  {
   "cell_type": "code",
   "execution_count": null,
   "metadata": {},
   "outputs": [],
   "source": [
    "# Expected payoff for player 1\n",
    "exp1 = 0\n",
    "# Expected payoff for player 2\n",
    "exp2 = 0\n",
    "\n",
    "if (rows != 2 or cols !=2):\n",
    "    # Compute\n",
    "    for i in range(rows):\n",
    "        exp1 += u1s[i] * theta1[i]\n",
    "\n",
    "    # Compute\n",
    "    for i in range(cols):\n",
    "        exp2 += u2s[i] * theta2[i]\n",
    "    \n",
    "    # Print\n",
    "    print(\"------------------------------------------------------\")\n",
    "    print(\"Player 1 & 2 Expected Payoffs with both Players Mixing\")\n",
    "    print(\"------------------------------------------------------\")\n",
    "    print (\"U1(\", Theta1, \", \", Theta2,\") = \", exp1)\n",
    "    print (\"U1(\", Theta2, \", \", Theta1,\") = \", exp2)"
   ]
  },
  {
   "cell_type": "markdown",
   "metadata": {},
   "source": [
    "# Case: 2x2 Game"
   ]
  },
  {
   "cell_type": "markdown",
   "metadata": {},
   "source": [
    "# Indifference 2 x 2 Game"
   ]
  },
  {
   "cell_type": "code",
   "execution_count": 33,
   "metadata": {},
   "outputs": [],
   "source": [
    "# Indifference Probabilities\n",
    "p = 0\n",
    "q = 0\n",
    "\n",
    "if (rows == 2 and cols == 2 and nash == False):\n",
    "    coeff = p1[0,0] - p1[0,1] - p1[1,0] + p1[1,1]\n",
    "    const = p1[1,1] - p1[0,1]\n",
    "    q = const/coeff\n",
    "\n",
    "    coeff = p2[0,0] - p2[1,0] - p2[0,1] + p2[1,1]\n",
    "    const = p2[1,1] - p2[1,0]\n",
    "    p = const/coeff\n",
    "\n",
    "    print (\"------------------------------------------\")\n",
    "    print (\"Player 1 & 2 Indifferent Mix Probabilities\")\n",
    "    print (\"------------------------------------------\")\n",
    "    # Print Indifference Probabilities\n",
    "    print (\"Player 1 probability of strategies (\", s1[0],\") =\", p)\n",
    "    print (\"Player 1 probability of strategies (\", s1[1],\") =\", 1-p)\n",
    "    print (\"Player 2 probability of strategies (\", s2[0],\") =\", q)\n",
    "    print (\"Player 2 probability of strategies (\", s2[1],\") =\", 1-q)\n",
    "\n",
    "elif (rows == 2 and cols == 2 and nash == True):\n",
    "    print (\"Normal Form has Pure Strategy Equilibrium\")\n"
   ]
  },
  {
   "cell_type": "code",
   "execution_count": null,
   "metadata": {},
   "outputs": [],
   "source": []
  },
  {
   "cell_type": "code",
   "execution_count": null,
   "metadata": {},
   "outputs": [],
   "source": []
  }
 ],
 "metadata": {
  "kernelspec": {
   "display_name": "Python 3",
   "language": "python",
   "name": "python3"
  },
  "language_info": {
   "codemirror_mode": {
    "name": "ipython",
    "version": 3
   },
   "file_extension": ".py",
   "mimetype": "text/x-python",
   "name": "python",
   "nbconvert_exporter": "python",
   "pygments_lexer": "ipython3",
   "version": "3.6.5"
  }
 },
 "nbformat": 4,
 "nbformat_minor": 2
}
